{
 "cells": [
  {
   "attachments": {},
   "cell_type": "markdown",
   "metadata": {},
   "source": [
    "### Kahoots for codigo futuro"
   ]
  },
  {
   "cell_type": "code",
   "execution_count": 1,
   "metadata": {},
   "outputs": [],
   "source": [
    "from IPython.display import display_markdown\n",
    "import os\n",
    "\n",
    "import pyperclip"
   ]
  },
  {
   "cell_type": "code",
   "execution_count": 2,
   "metadata": {},
   "outputs": [],
   "source": [
    "from ateach.clean import clean_text"
   ]
  },
  {
   "cell_type": "code",
   "execution_count": 5,
   "metadata": {},
   "outputs": [],
   "source": [
    "# directories\n",
    "work_directory = \"/home/edgar/awesome-teaching\"\n",
    "data_directory = f\"{work_directory}/data/03_list_dictionary\"\n",
    "prompts_directory = f\"{data_directory}/prompts\""
   ]
  },
  {
   "cell_type": "code",
   "execution_count": 6,
   "metadata": {},
   "outputs": [],
   "source": [
    "file_name = \"02_listas_diccionarios\"\n",
    "input_file = f\"{data_directory}/{file_name}.pdf\"\n",
    "output_file = f\"{data_directory}/{file_name}.txt\""
   ]
  },
  {
   "cell_type": "code",
   "execution_count": 7,
   "metadata": {},
   "outputs": [
    {
     "data": {
      "text/plain": [
       "0"
      ]
     },
     "execution_count": 7,
     "metadata": {},
     "output_type": "execute_result"
    }
   ],
   "source": [
    "# convert pdf to text with pdftotext using the linux command line\n",
    "# with os\n",
    "n_ignore_head = 5\n",
    "m_ignore_tail = -3\n",
    "\n",
    "os.system(\n",
    "    \"pdftotext -layout -nopgbrk \"\n",
    "    f\"-f {n_ignore_head} -l {m_ignore_tail} \"\n",
    "    f\"{input_file} {output_file}\"\n",
    ")\n"
   ]
  },
  {
   "cell_type": "code",
   "execution_count": 8,
   "metadata": {},
   "outputs": [
    {
     "data": {
      "text/markdown": [
       "/* Diccionarios */\n",
       "¿Qué son Diccionarios?\n",
       "\n",
       " Los diccionarios son similares a las listas,\n",
       " pero en lugar de utilizar índices numéricos\n",
       " para acceder a los valores, se utilizan las\n",
       " claves para buscar y recuperar los valores.\n",
       " Esto hace que los diccionarios sean muy\n",
       " útiles en situaciones donde necesitas\n",
       " acceder a datos de manera rápida y\n",
       " eﬁciente mediante una clave en lugar de un\n",
       " índice numérico.\n",
       "¿Qué son Diccionarios?\n",
       "\n",
       "\n",
       "\n",
       "\n",
       " Los diccionarios en Python\n",
       " se deﬁnen con llaves {}, y los\n",
       " elementos     dentro       del\n",
       " diccionario se separan con\n",
       " comas.                           clave\n",
       "\n",
       "\n",
       "                                  valor\n",
       "Representación en python de un diccionario\n",
       "Se representa en llaves y cada elemento representa una clave y su valor\n",
       "\n",
       "\n",
       " Una clave es un objeto inmutable que se           Un valor es cualquier objeto de Python\n",
       " utiliza para acceder a un valor asociado a        que se asocia con una clave en un\n",
       " esa clave. Cada clave del diccionario debe        diccionario. El valor puede ser de\n",
       " ser única, es decir, no puede haber dos           cualquier tipo de datos, incluyendo\n",
       " claves iguales en el mismo diccionario.           cadenas de texto, números, listas, tuplas,\n",
       "                                                   diccionarios, etc.\n",
       "\n",
       "\n",
       "             variable_diccionario = {clave1:valor1, clave2:valor2, clave3:valor3}\n",
       "/* Diccionario y sus tipos de datos */\n",
       "Diccionarios homogéneas\n",
       "¿Qué es un diccionario homogéneo?\n",
       "\n",
       "                                        ●   Números: enteros (int) y decimales\n",
       "                                            (ﬂoat).\n",
       "    Cuando todos los elementos en un\n",
       "                                        ●   Cadenas de texto (str).\n",
       "    diccionario son del mismo tipo de\n",
       "                                        ●   Booleanos (bool).\n",
       "    dato.\n",
       "                                        ●   Listas anidadas (listas que\n",
       "                                            contienen otras listas).\n",
       "                                        ●   Diccionarios (dict).\n",
       "Diccionarios heterogéneas\n",
       "¿Qué es un diccionario heterogéneo?\n",
       "\n",
       "\n",
       "                                             ●   Números: enteros (int) y decimales\n",
       "     Se reﬁeren a los diferentes tipos de        (ﬂoat).\n",
       "     elementos     que     pueden      ser   ●   Cadenas de texto (str).\n",
       "     almacenados en un solo diccionario      ●   Booleanos (bool).\n",
       "     en Python.                              ●   Listas anidadas (listas que contienen\n",
       "                                                 otras listas).\n",
       "                                             ●   Diccionarios (dict).\n",
       "   Demostración sugerida\n",
       "\"Imprimir por consola todo el\n",
       "  diccionario homogénea y\n",
       "        heterogénea \"\n",
       "¿Cómo acceder a un diccionario?\n",
       "\n",
       "Se utiliza la sintaxis de corchetes ([ ]) y se proporciona la clave correspondiente como\n",
       "índice entre los corchetes.\n",
       "\n",
       " Ejemplo:\n",
       "\n",
       "\n",
       "\n",
       "\n",
       " Accediendo            al\n",
       " diccionario a través de\n",
       " su clave\n",
       "¿Cómo agregar y cambiar un dato a un diccionario?\n",
       "Para agregar o cambiar datos a un diccionario en Python, se utiliza la sintaxis de corchetes\n",
       "([ ]) y se proporciona la clave correspondiente como índice entre los corchetes.\n",
       "\n",
       "       Agregando un dato:\n",
       "\n",
       "\n",
       "\n",
       "\n",
       "       Actualizando el valor de una clave\n",
       "/* Métodos de diccionario */\n",
       "Métodos de diccionario\n",
       "¿Qué son?\n",
       "\n",
       "Los métodos de diccionarios son funciones        ●   get(key[, default]): Devuelve el valor asociado a\n",
       "predeﬁnidas en Python que permiten realizar          la clave especiﬁcada. Si la clave no existe en el\n",
       "diferentes operaciones con los diccionarios.         diccionario, devuelve el valor por defecto\n",
       "                                                     especiﬁcado o None si no se proporciona\n",
       " ●   keys(): Devuelve una vista de todas las         ningún valor por defecto.\n",
       "     claves del diccionario.                     ●   pop(key[,    default]):    Elimina     la   clave\n",
       " ●   values(): Devuelve una vista de todos los       especiﬁcada y devuelve su valor asociado. Si la\n",
       "     valores del diccionario.                        clave no existe en el diccionario y se\n",
       " ●   items(): Devuelve una vista de tuplas de        proporciona un valor por defecto, devuelve el\n",
       "     pares (clave, valor) del diccionario.           valor por defecto. Si la clave no existe en el\n",
       "                                                     diccionario y no se proporciona un valor por\n",
       "                                                     defecto, se produce un error KeyError.\n",
       "                                                 ●   update(dict2): Actualiza el diccionario con las\n",
       "                                                     claves y valores del diccionario dict2.\n",
       "      Demostración\n",
       "\"Pongamos a prueba todos\n",
       " los métodos vistos sobre\n",
       "      diccionarios\"\n",
       "Métodos de diccionario\n",
       " Keys y Values\n",
       "\n",
       "  keys(): para mostrar todas las claves del diccionario.\n",
       "\n",
       "\n",
       "\n",
       "\n",
       "  values(): para mostrar todos los valores del diccionario.\n",
       "Métodos de diccionario\n",
       " Items y Get\n",
       "\n",
       "  items(): para mostrar todas las claves con su valores\n",
       "\n",
       "\n",
       "\n",
       "\n",
       "  get(): para saber si una clave existe o no, si existe devuelve su valor, si no\n",
       "  existe devuelve el mensaje por defecto que le asignaste.\n",
       "Métodos de diccionario\n",
       " Pop y Update\n",
       "\n",
       "  pop(): para eliminar una clave especíﬁca\n",
       "\n",
       "\n",
       "\n",
       "\n",
       "  update(): para actualizar el diccionario con los elementos de otro diccionario o\n",
       "  de una secuencia de pares clave-valor\n",
       "Diferencia entre diccionario y lista\n",
       "\n",
       "\n",
       "                   Diccionario                                     Lista\n",
       "\n",
       "  No tiene índice, cambio tiene claves y        Tiene índice automático que inicia en cero.\n",
       "  valores.\n",
       "\n",
       "  No se repiten las claves, y si se repite el   Se pueden repetir datos.\n",
       "  valor de la última clave repetida, toma el\n",
       "  valor hacia la primera.\n",
       "\n",
       "  Acepta todos los tipos de datos pero en       Acepta todo tipo de datos.\n",
       "  modo de clave y valor.\n",
       "Resumen\n",
       "\n",
       "\n",
       "  ●   La importancia de conocer métodos de diccionario reside en que\n",
       "      conocer los métodos de diccionario permite aprovechar al\n",
       "      máximo su potencial y realizar operaciones de manera más\n",
       "      eﬁciente y cómoda.\n",
       "¿Cuál es el método para\n",
       " eliminar un dato del\n",
       "     diccionario ?\n",
       "Próxima sesión…\n",
       "Sintaxis y uso correcto de los ciclos while y for\n"
      ]
     },
     "metadata": {},
     "output_type": "display_data"
    }
   ],
   "source": [
    "# read the text file\n",
    "with open(output_file, \"r\") as f:\n",
    "    text = f.read()\n",
    "\n",
    "display_markdown(text, raw=True)"
   ]
  },
  {
   "cell_type": "code",
   "execution_count": 9,
   "metadata": {},
   "outputs": [
    {
     "data": {
      "text/markdown": [
       "/* Diccionarios */ ¿Qué son Diccionarios? Los diccionarios son similares a las listas, pero en lugar de utilizar índices numéricos para acceder a los valores, se utilizan las claves para buscar y recuperar los valores. Esto hace que los diccionarios sean muy útiles en situaciones donde necesitas acceder a datos de manera rápida y eﬁciente mediante una clave en lugar de un índice numérico. ¿Qué son Diccionarios? Los diccionarios en Python se deﬁnen con llaves {}, y los elementos dentro del diccionario se separan con comas. clave valor Representación en python de un diccionario Se representa en llaves y cada elemento representa una clave y su valor Una clave es un objeto inmutable que se Un valor es cualquier objeto de Python utiliza para acceder a un valor asociado a que se asocia con una clave en un esa clave. Cada clave del diccionario debe diccionario. El valor puede ser de ser única, es decir, no puede haber dos cualquier tipo de datos, incluyendo claves iguales en el mismo diccionario. cadenas de texto, números, listas, tuplas, diccionarios, etc. variable_diccionario = {clave1:valor1, clave2:valor2, clave3:valor3} /* Diccionario y sus tipos de datos */ Diccionarios homogéneas ¿Qué es un diccionario homogéneo? ● Números: enteros (int) y decimales (ﬂoat). Cuando todos los elementos en un ● Cadenas de texto (str). diccionario son del mismo tipo de ● Booleanos (bool). dato. ● Listas anidadas (listas que contienen otras listas). ● Diccionarios (dict). Diccionarios heterogéneas ¿Qué es un diccionario heterogéneo? ● Números: enteros (int) y decimales Se reﬁeren a los diferentes tipos de (ﬂoat). elementos que pueden ser ● Cadenas de texto (str). almacenados en un solo diccionario ● Booleanos (bool). en Python. ● Listas anidadas (listas que contienen otras listas). ● Diccionarios (dict). Demostración sugerida \"Imprimir por consola todo el diccionario homogénea y heterogénea \" ¿Cómo acceder a un diccionario? Se utiliza la sintaxis de corchetes ([ ]) y se proporciona la clave correspondiente como índice entre los corchetes. Ejemplo: Accediendo al diccionario a través de su clave ¿Cómo agregar y cambiar un dato a un diccionario? Para agregar o cambiar datos a un diccionario en Python, se utiliza la sintaxis de corchetes ([ ]) y se proporciona la clave correspondiente como índice entre los corchetes. Agregando un dato: Actualizando el valor de una clave /* Métodos de diccionario */ Métodos de diccionario ¿Qué son? Los métodos de diccionarios son funciones ● get(key[, default]): Devuelve el valor asociado a predeﬁnidas en Python que permiten realizar la clave especiﬁcada. Si la clave no existe en el diferentes operaciones con los diccionarios. diccionario, devuelve el valor por defecto especiﬁcado o None si no se proporciona ● keys(): Devuelve una vista de todas las ningún valor por defecto. claves del diccionario. ● pop(key[, default]): Elimina la clave ● values(): Devuelve una vista de todos los especiﬁcada y devuelve su valor asociado. Si la valores del diccionario. clave no existe en el diccionario y se ● items(): Devuelve una vista de tuplas de proporciona un valor por defecto, devuelve el pares (clave, valor) del diccionario. valor por defecto. Si la clave no existe en el diccionario y no se proporciona un valor por defecto, se produce un error KeyError. ● update(dict2): Actualiza el diccionario con las claves y valores del diccionario dict2. Demostración \"Pongamos a prueba todos los métodos vistos sobre diccionarios\" Métodos de diccionario Keys y Values keys(): para mostrar todas las claves del diccionario. values(): para mostrar todos los valores del diccionario. Métodos de diccionario Items y Get items(): para mostrar todas las claves con su valores get(): para saber si una clave existe o no, si existe devuelve su valor, si no existe devuelve el mensaje por defecto que le asignaste. Métodos de diccionario Pop y Update pop(): para eliminar una clave especíﬁca update(): para actualizar el diccionario con los elementos de otro diccionario o de una secuencia de pares clave-valor Diferencia entre diccionario y lista Diccionario Lista No tiene índice, cambio tiene claves y Tiene índice automático que inicia en cero. valores. No se repiten las claves, y si se repite el Se pueden repetir datos. valor de la última clave repetida, toma el valor hacia la primera. Acepta todos los tipos de datos pero en Acepta todo tipo de datos. modo de clave y valor. Resumen ● La importancia de conocer métodos de diccionario reside en que conocer los métodos de diccionario permite aprovechar al máximo su potencial y realizar operaciones de manera más eﬁciente y cómoda. ¿Cuál es el método para eliminar un dato del diccionario ? Próxima sesión… Sintaxis y uso correcto de los ciclos while y for"
      ]
     },
     "metadata": {},
     "output_type": "display_data"
    }
   ],
   "source": [
    "# clean the text\n",
    "cleaned_text = clean_text(text)\n",
    "\n",
    "display_markdown(cleaned_text, raw=True)"
   ]
  },
  {
   "cell_type": "code",
   "execution_count": 10,
   "metadata": {},
   "outputs": [],
   "source": [
    "# promt for ChatGPT to create kahoots\n",
    "n_true_false = 5\n",
    "n_multiple_choice = 5\n",
    "\n",
    "total_questions = [\n",
    "    n_true_false + n_multiple_choice\n",
    "]\n",
    "\n",
    "prompt = f\"\"\"\n",
    "    Create questions from the text delimited\n",
    "    by the <> symbols.\n",
    "    - Questions must be in Spanish.\n",
    "    - Limit length of questions up to 5 words.\n",
    "    - Questions are for high school students who just learned the concepts.\n",
    "    \n",
    "    With these considerations in mind, create:\n",
    "\n",
    "    1. {n_true_false} True/False questions\n",
    "    2. {n_multiple_choice} multiple choice questions.\n",
    "    Provide 4 options where one option is correct,\n",
    "        2 options are incorrect but plausible and 1 option\n",
    "        is incorrect but rediculously funny.\n",
    "    Indicate the right answer between the square brackets.\n",
    "    <>\n",
    "    {cleaned_text}\n",
    "    <> \n",
    "\"\"\"\n",
    "pyperclip.copy(prompt)"
   ]
  },
  {
   "cell_type": "code",
   "execution_count": null,
   "metadata": {},
   "outputs": [],
   "source": []
  }
 ],
 "metadata": {
  "kernelspec": {
   "display_name": "Python 3",
   "language": "python",
   "name": "python3"
  },
  "language_info": {
   "codemirror_mode": {
    "name": "ipython",
    "version": 3
   },
   "file_extension": ".py",
   "mimetype": "text/x-python",
   "name": "python",
   "nbconvert_exporter": "python",
   "pygments_lexer": "ipython3",
   "version": "3.10.6"
  },
  "orig_nbformat": 4
 },
 "nbformat": 4,
 "nbformat_minor": 2
}
